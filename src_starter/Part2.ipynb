{
 "cells": [
  {
   "cell_type": "code",
   "execution_count": 1,
   "metadata": {},
   "outputs": [
    {
     "name": "stdout",
     "output_type": "stream",
     "text": [
      "My prediction: 2.8483321986985777, SVD's prediction: 2.8483321986985777, difference: 0.0\n"
     ]
    }
   ],
   "source": [
    "import pandas as pd\n",
    "from surprise import Dataset, NormalPredictor, Reader, SVD, accuracy\n",
    "from surprise.model_selection import cross_validate\n",
    "import numpy as np\n",
    "\n",
    "\n",
    "from train_valid_test_loader import load_train_valid_test_datasets\n",
    "\n",
    "# Load the dataset in the same way as the main problem \n",
    "train_tuple, valid_tuple, test_tuple, n_users, n_items = \\\n",
    "        load_train_valid_test_datasets()\n",
    "\n",
    "\n",
    "def tuple_to_surprise_dataset(tupl):\n",
    "    \"\"\"\n",
    "    This function convert a subset in the tuple form to a `surprise` dataset. \n",
    "    \"\"\"\n",
    "    ratings_dict = {\n",
    "        \"userID\": tupl[0],\n",
    "        \"itemID\": tupl[1],\n",
    "        \"rating\": tupl[2],\n",
    "    }\n",
    "\n",
    "    df = pd.DataFrame(ratings_dict)\n",
    "\n",
    "    # A reader is still needed but only the rating_scale param is requiered.\n",
    "    reader = Reader(rating_scale=(1, 5))\n",
    "\n",
    "    # The columns must correspond to user id, item id and ratings (in that order).\n",
    "    dataset = Dataset.load_from_df(df[[\"userID\", \"itemID\", \"rating\"]], reader)\n",
    "\n",
    "    return dataset\n",
    "\n",
    "## Below we train an SVD model and get its vectors \n",
    "\n",
    "# train an SVD model using the training set\n",
    "trainset = tuple_to_surprise_dataset(train_tuple).build_full_trainset()\n",
    "algo = SVD()\n",
    "algo.fit(trainset)\n",
    "\n",
    "\n",
    "# Use an example to show to to slice out user and item vectors learned by the SVD \n",
    "uid = valid_tuple[0][0]\n",
    "iid = valid_tuple[1][0]\n",
    "rui = valid_tuple[2][0]\n",
    "\n",
    "# Get model parameters\n",
    "# NOTE: the SVD model has its own index system because the storage using raw user and item ids\n",
    "# is not efficient. We need to convert raw ids to internal ids. Please read the few lines below\n",
    "# carefully \n",
    "\n",
    "mu = algo.trainset.global_mean # SVD does not even fit mu -- it directly use the rating mean \n",
    "bu = algo.bu[trainset.to_inner_uid(uid)]\n",
    "bi = algo.bi[trainset.to_inner_iid(iid)] \n",
    "pu = algo.pu[trainset.to_inner_uid(uid)] \n",
    "qi = algo.qi[trainset.to_inner_iid(iid)]\n",
    "\n",
    "# Sanity check: we compute our own prediction and compare it against the model's prediction \n",
    "# our prediction\n",
    "my_est = mu + bu + bi + np.dot(pu, qi) \n",
    "\n",
    "# the model's prediction\n",
    "# NOTE: the training of the SVD model is random, so the prediction can be different with \n",
    "# different runs -- this is normal.   \n",
    "svd_pred = algo.predict(uid, iid, r_ui=rui)\n",
    "\n",
    "# The two predictions should be the same\n",
    "print(\"My prediction: \" + str(my_est) + \", SVD's prediction: \" + str(svd_pred.est) + \", difference: \" + str(np.abs(my_est - svd_pred.est)))\n",
    "\n",
    "assert(np.abs(my_est - svd_pred.est) < 1e-6)"
   ]
  },
  {
   "cell_type": "code",
   "execution_count": null,
   "metadata": {},
   "outputs": [],
   "source": []
  }
 ],
 "metadata": {
  "kernelspec": {
   "display_name": "cs135_env",
   "language": "python",
   "name": "python3"
  },
  "language_info": {
   "codemirror_mode": {
    "name": "ipython",
    "version": 3
   },
   "file_extension": ".py",
   "mimetype": "text/x-python",
   "name": "python",
   "nbconvert_exporter": "python",
   "pygments_lexer": "ipython3",
   "version": "3.10.13"
  }
 },
 "nbformat": 4,
 "nbformat_minor": 2
}
